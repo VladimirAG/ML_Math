{
 "cells": [
  {
   "cell_type": "markdown",
   "id": "b054bd88",
   "metadata": {
    "id": "b054bd88"
   },
   "source": [
    "# <center> Линейная алгебра в контексте линейных методов. Практика.\n",
    "\n",
    "## <center> Прогнозирование выработки газа на скважинах."
   ]
  },
  {
   "cell_type": "markdown",
   "id": "325bc80b",
   "metadata": {
    "id": "325bc80b"
   },
   "source": [
    "## Постановка задачи"
   ]
  },
  {
   "cell_type": "markdown",
   "id": "8247bd54",
   "metadata": {
    "id": "8247bd54"
   },
   "source": [
    "У Василия, основателя компании «Газ-Таз-Ваз-Нефть», дела идут в гору: у него уже функционирует 200 скважин для добычи газа. В этом году он открывает 30 новых скважин. Однако в целях оптимизации расходов и повышения дохода Василию необходимо оценить, сколько денег будет приносить ему каждая из скважин, а также понять, какие факторы (параметры скважин) потенциально сильнее всего повлияют на объём добычи газа. Для этого Василий решил нанять вас как специалиста в области Data Science.\n",
    "\n",
    "Василий представляет вам набор данных о добыче газа на своих скважинах. Файл с данными вы можете скачать на платформе.\n",
    "\n",
    "**Признаки в данных:**\n",
    "\n",
    "* Well — идентификатор скважины;\n",
    "* Por — пористость скважины (%);\n",
    "* Perm — проницаемость скважины;\n",
    "* AI — акустический импеданс ($кг/м^2 * 10^6$);\n",
    "* Brittle — коэффициент хрупкости скважины (%);\n",
    "* TOC — общий органический углерод (%);\n",
    "* VR — коэффициент отражения витринита (%);\n",
    "* Prod — добыча газа в сутки (млн. кубических футов).\n",
    "\n",
    "**Ваша задача** — построить регрессионную модель, которая прогнозирует выработку газа на скважине (целевой признак — Prod) на основе остальных характеристик скважины, и проинтерпретировать результаты вашей модели.\n",
    "\n",
    "Разделим задачу на две части:\n",
    "* В первой мы построим простейшую модель линейной регрессии, проанализируем результаты её работы и выберем наиболее значимые факторы для прогнозирования.\n",
    "* Во второй мы займёмся построением модели полиномиальной регрессии с регуляризацией и посмотрим на итоговые результаты моделирования.\n"
   ]
  },
  {
   "cell_type": "markdown",
   "id": "d67d069e",
   "metadata": {
    "id": "d67d069e"
   },
   "source": [
    "Импортируем необходимые библиотеки:"
   ]
  },
  {
   "cell_type": "code",
   "execution_count": 18,
   "id": "83a555bc-8dff-4b7e-bba1-cd4f4a9e69b2",
   "metadata": {
    "id": "83a555bc-8dff-4b7e-bba1-cd4f4a9e69b2"
   },
   "outputs": [],
   "source": [
    "# Импорт библиотек\n",
    "import numpy as np # для работы с массивами\n",
    "import pandas as pd # для работы с DataFrame \n",
    "import seaborn as sns # библиотека для визуализации статистических данных\n",
    "import matplotlib.pyplot as plt # для построения графиков\n",
    "from sklearn.linear_model import LinearRegression\n",
    "from sklearn.metrics import mean_absolute_percentage_error\n",
    "\n",
    "%matplotlib inline"
   ]
  },
  {
   "cell_type": "markdown",
   "id": "e689ddaf",
   "metadata": {
    "id": "e689ddaf"
   },
   "source": [
    "Прочитаем исходные данные:"
   ]
  },
  {
   "cell_type": "code",
   "execution_count": 20,
   "id": "b7b5cd9b-703f-4dbc-a6e3-61d583eafcac",
   "metadata": {
    "colab": {
     "base_uri": "https://localhost:8080/",
     "height": 206
    },
    "id": "b7b5cd9b-703f-4dbc-a6e3-61d583eafcac",
    "outputId": "d4e99a48-2a0d-4edd-f86c-617c44bf36d2"
   },
   "outputs": [
    {
     "data": {
      "text/html": [
       "<div>\n",
       "<style scoped>\n",
       "    .dataframe tbody tr th:only-of-type {\n",
       "        vertical-align: middle;\n",
       "    }\n",
       "\n",
       "    .dataframe tbody tr th {\n",
       "        vertical-align: top;\n",
       "    }\n",
       "\n",
       "    .dataframe thead th {\n",
       "        text-align: right;\n",
       "    }\n",
       "</style>\n",
       "<table border=\"1\" class=\"dataframe\">\n",
       "  <thead>\n",
       "    <tr style=\"text-align: right;\">\n",
       "      <th></th>\n",
       "      <th>Well</th>\n",
       "      <th>Por</th>\n",
       "      <th>Perm</th>\n",
       "      <th>AI</th>\n",
       "      <th>Brittle</th>\n",
       "      <th>TOC</th>\n",
       "      <th>VR</th>\n",
       "      <th>Prod</th>\n",
       "    </tr>\n",
       "  </thead>\n",
       "  <tbody>\n",
       "    <tr>\n",
       "      <th>0</th>\n",
       "      <td>1</td>\n",
       "      <td>12.08</td>\n",
       "      <td>2.92</td>\n",
       "      <td>2.80</td>\n",
       "      <td>81.40</td>\n",
       "      <td>1.16</td>\n",
       "      <td>2.31</td>\n",
       "      <td>4165.196191</td>\n",
       "    </tr>\n",
       "    <tr>\n",
       "      <th>1</th>\n",
       "      <td>2</td>\n",
       "      <td>12.38</td>\n",
       "      <td>3.53</td>\n",
       "      <td>3.22</td>\n",
       "      <td>46.17</td>\n",
       "      <td>0.89</td>\n",
       "      <td>1.88</td>\n",
       "      <td>3561.146205</td>\n",
       "    </tr>\n",
       "    <tr>\n",
       "      <th>2</th>\n",
       "      <td>3</td>\n",
       "      <td>14.02</td>\n",
       "      <td>2.59</td>\n",
       "      <td>4.01</td>\n",
       "      <td>72.80</td>\n",
       "      <td>0.89</td>\n",
       "      <td>2.72</td>\n",
       "      <td>4284.348574</td>\n",
       "    </tr>\n",
       "    <tr>\n",
       "      <th>3</th>\n",
       "      <td>4</td>\n",
       "      <td>17.67</td>\n",
       "      <td>6.75</td>\n",
       "      <td>2.63</td>\n",
       "      <td>39.81</td>\n",
       "      <td>1.08</td>\n",
       "      <td>1.88</td>\n",
       "      <td>5098.680869</td>\n",
       "    </tr>\n",
       "    <tr>\n",
       "      <th>4</th>\n",
       "      <td>5</td>\n",
       "      <td>17.52</td>\n",
       "      <td>4.57</td>\n",
       "      <td>3.18</td>\n",
       "      <td>10.94</td>\n",
       "      <td>1.51</td>\n",
       "      <td>1.90</td>\n",
       "      <td>3406.132832</td>\n",
       "    </tr>\n",
       "  </tbody>\n",
       "</table>\n",
       "</div>"
      ],
      "text/plain": [
       "   Well    Por  Perm    AI  Brittle   TOC    VR         Prod\n",
       "0     1  12.08  2.92  2.80    81.40  1.16  2.31  4165.196191\n",
       "1     2  12.38  3.53  3.22    46.17  0.89  1.88  3561.146205\n",
       "2     3  14.02  2.59  4.01    72.80  0.89  2.72  4284.348574\n",
       "3     4  17.67  6.75  2.63    39.81  1.08  1.88  5098.680869\n",
       "4     5  17.52  4.57  3.18    10.94  1.51  1.90  3406.132832"
      ]
     },
     "execution_count": 20,
     "metadata": {},
     "output_type": "execute_result"
    }
   ],
   "source": [
    "data = pd.read_csv('unconv.csv')\n",
    "data.head()"
   ]
  },
  {
   "cell_type": "markdown",
   "id": "58639b40",
   "metadata": {
    "id": "58639b40"
   },
   "source": [
    "## Практика: линейная регрессия по методу наименьших квадратов"
   ]
  },
  {
   "cell_type": "markdown",
   "id": "a90535b8",
   "metadata": {
    "id": "a90535b8"
   },
   "source": [
    "Для начала построим простейшую модель линейной регрессии, проанализируем результаты её работы и выберем наиболее значимые факторы для прогнозирования."
   ]
  },
  {
   "cell_type": "markdown",
   "id": "4061b706",
   "metadata": {
    "id": "4061b706"
   },
   "source": [
    "### Задание 5.0\n",
    "\n",
    "Проведите небольшой разведывательный анализ, чтобы поближе познакомиться с исходными данными. Постройте несколько визуализаций, которые помогут вам понять, как устроены исходные признаки, а также смогут продемонстрировать взаимосвязь факторов. \n",
    "\n",
    "Сделайте промежуточные выводы из проведённого разведывательного анализа."
   ]
  },
  {
   "cell_type": "code",
   "execution_count": 26,
   "id": "daf1ccc7",
   "metadata": {
    "id": "daf1ccc7"
   },
   "outputs": [
    {
     "name": "stdout",
     "output_type": "stream",
     "text": [
      "<class 'pandas.core.frame.DataFrame'>\n",
      "RangeIndex: 200 entries, 0 to 199\n",
      "Data columns (total 8 columns):\n",
      " #   Column   Non-Null Count  Dtype  \n",
      "---  ------   --------------  -----  \n",
      " 0   Well     200 non-null    int64  \n",
      " 1   Por      200 non-null    float64\n",
      " 2   Perm     200 non-null    float64\n",
      " 3   AI       200 non-null    float64\n",
      " 4   Brittle  200 non-null    float64\n",
      " 5   TOC      200 non-null    float64\n",
      " 6   VR       200 non-null    float64\n",
      " 7   Prod     200 non-null    float64\n",
      "dtypes: float64(7), int64(1)\n",
      "memory usage: 12.6 KB\n"
     ]
    },
    {
     "data": {
      "text/plain": [
       "None"
      ]
     },
     "metadata": {},
     "output_type": "display_data"
    },
    {
     "data": {
      "text/html": [
       "<div>\n",
       "<style scoped>\n",
       "    .dataframe tbody tr th:only-of-type {\n",
       "        vertical-align: middle;\n",
       "    }\n",
       "\n",
       "    .dataframe tbody tr th {\n",
       "        vertical-align: top;\n",
       "    }\n",
       "\n",
       "    .dataframe thead th {\n",
       "        text-align: right;\n",
       "    }\n",
       "</style>\n",
       "<table border=\"1\" class=\"dataframe\">\n",
       "  <thead>\n",
       "    <tr style=\"text-align: right;\">\n",
       "      <th></th>\n",
       "      <th>Well</th>\n",
       "      <th>Por</th>\n",
       "      <th>Perm</th>\n",
       "      <th>AI</th>\n",
       "      <th>Brittle</th>\n",
       "      <th>TOC</th>\n",
       "      <th>VR</th>\n",
       "      <th>Prod</th>\n",
       "    </tr>\n",
       "  </thead>\n",
       "  <tbody>\n",
       "    <tr>\n",
       "      <th>count</th>\n",
       "      <td>200.000000</td>\n",
       "      <td>200.000000</td>\n",
       "      <td>200.000000</td>\n",
       "      <td>200.000000</td>\n",
       "      <td>200.000000</td>\n",
       "      <td>200.000000</td>\n",
       "      <td>200.000000</td>\n",
       "      <td>200.000000</td>\n",
       "    </tr>\n",
       "    <tr>\n",
       "      <th>mean</th>\n",
       "      <td>100.500000</td>\n",
       "      <td>14.991150</td>\n",
       "      <td>4.330750</td>\n",
       "      <td>2.968850</td>\n",
       "      <td>48.161950</td>\n",
       "      <td>0.990450</td>\n",
       "      <td>1.964300</td>\n",
       "      <td>4311.219852</td>\n",
       "    </tr>\n",
       "    <tr>\n",
       "      <th>std</th>\n",
       "      <td>57.879185</td>\n",
       "      <td>2.971176</td>\n",
       "      <td>1.731014</td>\n",
       "      <td>0.566885</td>\n",
       "      <td>14.129455</td>\n",
       "      <td>0.481588</td>\n",
       "      <td>0.300827</td>\n",
       "      <td>992.038414</td>\n",
       "    </tr>\n",
       "    <tr>\n",
       "      <th>min</th>\n",
       "      <td>1.000000</td>\n",
       "      <td>6.550000</td>\n",
       "      <td>1.130000</td>\n",
       "      <td>1.280000</td>\n",
       "      <td>10.940000</td>\n",
       "      <td>-0.190000</td>\n",
       "      <td>0.930000</td>\n",
       "      <td>2107.139414</td>\n",
       "    </tr>\n",
       "    <tr>\n",
       "      <th>25%</th>\n",
       "      <td>50.750000</td>\n",
       "      <td>12.912500</td>\n",
       "      <td>3.122500</td>\n",
       "      <td>2.547500</td>\n",
       "      <td>37.755000</td>\n",
       "      <td>0.617500</td>\n",
       "      <td>1.770000</td>\n",
       "      <td>3618.064513</td>\n",
       "    </tr>\n",
       "    <tr>\n",
       "      <th>50%</th>\n",
       "      <td>100.500000</td>\n",
       "      <td>15.070000</td>\n",
       "      <td>4.035000</td>\n",
       "      <td>2.955000</td>\n",
       "      <td>49.510000</td>\n",
       "      <td>1.030000</td>\n",
       "      <td>1.960000</td>\n",
       "      <td>4284.687348</td>\n",
       "    </tr>\n",
       "    <tr>\n",
       "      <th>75%</th>\n",
       "      <td>150.250000</td>\n",
       "      <td>17.402500</td>\n",
       "      <td>5.287500</td>\n",
       "      <td>3.345000</td>\n",
       "      <td>58.262500</td>\n",
       "      <td>1.350000</td>\n",
       "      <td>2.142500</td>\n",
       "      <td>5086.089761</td>\n",
       "    </tr>\n",
       "    <tr>\n",
       "      <th>max</th>\n",
       "      <td>200.000000</td>\n",
       "      <td>23.550000</td>\n",
       "      <td>9.870000</td>\n",
       "      <td>4.630000</td>\n",
       "      <td>84.330000</td>\n",
       "      <td>2.180000</td>\n",
       "      <td>2.870000</td>\n",
       "      <td>6662.622385</td>\n",
       "    </tr>\n",
       "  </tbody>\n",
       "</table>\n",
       "</div>"
      ],
      "text/plain": [
       "             Well         Por        Perm          AI     Brittle         TOC  \\\n",
       "count  200.000000  200.000000  200.000000  200.000000  200.000000  200.000000   \n",
       "mean   100.500000   14.991150    4.330750    2.968850   48.161950    0.990450   \n",
       "std     57.879185    2.971176    1.731014    0.566885   14.129455    0.481588   \n",
       "min      1.000000    6.550000    1.130000    1.280000   10.940000   -0.190000   \n",
       "25%     50.750000   12.912500    3.122500    2.547500   37.755000    0.617500   \n",
       "50%    100.500000   15.070000    4.035000    2.955000   49.510000    1.030000   \n",
       "75%    150.250000   17.402500    5.287500    3.345000   58.262500    1.350000   \n",
       "max    200.000000   23.550000    9.870000    4.630000   84.330000    2.180000   \n",
       "\n",
       "               VR         Prod  \n",
       "count  200.000000   200.000000  \n",
       "mean     1.964300  4311.219852  \n",
       "std      0.300827   992.038414  \n",
       "min      0.930000  2107.139414  \n",
       "25%      1.770000  3618.064513  \n",
       "50%      1.960000  4284.687348  \n",
       "75%      2.142500  5086.089761  \n",
       "max      2.870000  6662.622385  "
      ]
     },
     "metadata": {},
     "output_type": "display_data"
    },
    {
     "data": {
      "text/plain": [
       "(200, 8)"
      ]
     },
     "metadata": {},
     "output_type": "display_data"
    }
   ],
   "source": [
    "display(data.info())\n",
    "display(data.describe())\n",
    "display(data.shape)"
   ]
  },
  {
   "cell_type": "markdown",
   "id": "d11cb44f",
   "metadata": {
    "id": "d11cb44f"
   },
   "source": [
    "### Задание 5.1\n",
    "\n",
    "Постройте корреляционную матрицу факторов, включив в неё целевой признак. \n",
    "\n",
    "Для наглядности визуализируйте полученную матрицу с помощью тепловой карты. \n",
    "\n",
    "**Примечание.** *Для визуализации вы можете использовать любую из знакомых вам библиотек.*\n",
    "\n",
    "На основе построенной корреляционной матрицы ответьте на следующий вопрос:\n",
    "\n",
    "* Какие факторы сильнее всего коррелируют с целевой переменной?\n",
    "\n",
    "Вычислите ранг и определитель полученной матрицы корреляций и приведите развёрнутые ответы на следующие вопросы:\n",
    "* Является ли корреляционная матрица плохо обусловенной (близок ли её опредитель к нулю)?\n",
    "* Что вы можете сказать о наличии коллинераности/мультиколлинеарности в данных? \n",
    "* Применима ли в данном случае модель классической линейной регрессии по методу наименьших квадратов и почему? "
   ]
  },
  {
   "cell_type": "code",
   "execution_count": 29,
   "id": "af00a5a0",
   "metadata": {
    "id": "af00a5a0"
   },
   "outputs": [
    {
     "data": {
      "text/html": [
       "<div>\n",
       "<style scoped>\n",
       "    .dataframe tbody tr th:only-of-type {\n",
       "        vertical-align: middle;\n",
       "    }\n",
       "\n",
       "    .dataframe tbody tr th {\n",
       "        vertical-align: top;\n",
       "    }\n",
       "\n",
       "    .dataframe thead th {\n",
       "        text-align: right;\n",
       "    }\n",
       "</style>\n",
       "<table border=\"1\" class=\"dataframe\">\n",
       "  <thead>\n",
       "    <tr style=\"text-align: right;\">\n",
       "      <th></th>\n",
       "      <th>Well</th>\n",
       "      <th>Por</th>\n",
       "      <th>Perm</th>\n",
       "      <th>AI</th>\n",
       "      <th>Brittle</th>\n",
       "      <th>TOC</th>\n",
       "      <th>VR</th>\n",
       "      <th>Prod</th>\n",
       "    </tr>\n",
       "  </thead>\n",
       "  <tbody>\n",
       "    <tr>\n",
       "      <th>Well</th>\n",
       "      <td>1.000000</td>\n",
       "      <td>0.068927</td>\n",
       "      <td>0.077928</td>\n",
       "      <td>0.041483</td>\n",
       "      <td>-0.079252</td>\n",
       "      <td>0.022624</td>\n",
       "      <td>-0.007279</td>\n",
       "      <td>0.026817</td>\n",
       "    </tr>\n",
       "    <tr>\n",
       "      <th>Por</th>\n",
       "      <td>0.068927</td>\n",
       "      <td>1.000000</td>\n",
       "      <td>0.760546</td>\n",
       "      <td>-0.461549</td>\n",
       "      <td>-0.218570</td>\n",
       "      <td>0.711831</td>\n",
       "      <td>0.111860</td>\n",
       "      <td>0.861910</td>\n",
       "    </tr>\n",
       "    <tr>\n",
       "      <th>Perm</th>\n",
       "      <td>0.077928</td>\n",
       "      <td>0.760546</td>\n",
       "      <td>1.000000</td>\n",
       "      <td>-0.239636</td>\n",
       "      <td>-0.124017</td>\n",
       "      <td>0.471746</td>\n",
       "      <td>0.051023</td>\n",
       "      <td>0.727426</td>\n",
       "    </tr>\n",
       "    <tr>\n",
       "      <th>AI</th>\n",
       "      <td>0.041483</td>\n",
       "      <td>-0.461549</td>\n",
       "      <td>-0.239636</td>\n",
       "      <td>1.000000</td>\n",
       "      <td>0.127599</td>\n",
       "      <td>-0.531864</td>\n",
       "      <td>0.499143</td>\n",
       "      <td>-0.390835</td>\n",
       "    </tr>\n",
       "    <tr>\n",
       "      <th>Brittle</th>\n",
       "      <td>-0.079252</td>\n",
       "      <td>-0.218570</td>\n",
       "      <td>-0.124017</td>\n",
       "      <td>0.127599</td>\n",
       "      <td>1.000000</td>\n",
       "      <td>-0.214282</td>\n",
       "      <td>0.317929</td>\n",
       "      <td>0.237155</td>\n",
       "    </tr>\n",
       "    <tr>\n",
       "      <th>TOC</th>\n",
       "      <td>0.022624</td>\n",
       "      <td>0.711831</td>\n",
       "      <td>0.471746</td>\n",
       "      <td>-0.531864</td>\n",
       "      <td>-0.214282</td>\n",
       "      <td>1.000000</td>\n",
       "      <td>0.299483</td>\n",
       "      <td>0.654445</td>\n",
       "    </tr>\n",
       "    <tr>\n",
       "      <th>VR</th>\n",
       "      <td>-0.007279</td>\n",
       "      <td>0.111860</td>\n",
       "      <td>0.051023</td>\n",
       "      <td>0.499143</td>\n",
       "      <td>0.317929</td>\n",
       "      <td>0.299483</td>\n",
       "      <td>1.000000</td>\n",
       "      <td>0.323182</td>\n",
       "    </tr>\n",
       "    <tr>\n",
       "      <th>Prod</th>\n",
       "      <td>0.026817</td>\n",
       "      <td>0.861910</td>\n",
       "      <td>0.727426</td>\n",
       "      <td>-0.390835</td>\n",
       "      <td>0.237155</td>\n",
       "      <td>0.654445</td>\n",
       "      <td>0.323182</td>\n",
       "      <td>1.000000</td>\n",
       "    </tr>\n",
       "  </tbody>\n",
       "</table>\n",
       "</div>"
      ],
      "text/plain": [
       "             Well       Por      Perm        AI   Brittle       TOC        VR  \\\n",
       "Well     1.000000  0.068927  0.077928  0.041483 -0.079252  0.022624 -0.007279   \n",
       "Por      0.068927  1.000000  0.760546 -0.461549 -0.218570  0.711831  0.111860   \n",
       "Perm     0.077928  0.760546  1.000000 -0.239636 -0.124017  0.471746  0.051023   \n",
       "AI       0.041483 -0.461549 -0.239636  1.000000  0.127599 -0.531864  0.499143   \n",
       "Brittle -0.079252 -0.218570 -0.124017  0.127599  1.000000 -0.214282  0.317929   \n",
       "TOC      0.022624  0.711831  0.471746 -0.531864 -0.214282  1.000000  0.299483   \n",
       "VR      -0.007279  0.111860  0.051023  0.499143  0.317929  0.299483  1.000000   \n",
       "Prod     0.026817  0.861910  0.727426 -0.390835  0.237155  0.654445  0.323182   \n",
       "\n",
       "             Prod  \n",
       "Well     0.026817  \n",
       "Por      0.861910  \n",
       "Perm     0.727426  \n",
       "AI      -0.390835  \n",
       "Brittle  0.237155  \n",
       "TOC      0.654445  \n",
       "VR       0.323182  \n",
       "Prod     1.000000  "
      ]
     },
     "metadata": {},
     "output_type": "display_data"
    },
    {
     "data": {
      "text/plain": [
       "'Ранг матрицы корреляции равен - 8'"
      ]
     },
     "metadata": {},
     "output_type": "display_data"
    },
    {
     "data": {
      "text/plain": [
       "'Определитель матрицы корреляции равен - 0.0007299388072652082'"
      ]
     },
     "metadata": {},
     "output_type": "display_data"
    },
    {
     "data": {
      "image/png": "[encoded data removed]",
      "text/plain": [
       "<Figure size 900x800 with 2 Axes>"
      ]
     },
     "metadata": {},
     "output_type": "display_data"
    }
   ],
   "source": [
    "corr_matrix = data.corr()\n",
    "fig, ax = plt.subplots(figsize=(9, 8))\n",
    "sns.heatmap(corr_matrix, annot=True, ax = ax, cmap = 'RdYlBu_r', linewidths = 0.5)\n",
    "\n",
    "display(corr_matrix)\n",
    "display(f\"Ранг матрицы корреляции равен - {np.linalg.matrix_rank(corr_matrix)}\")\n",
    "display(f\"Определитель матрицы корреляции равен - {np.linalg.det(corr_matrix)}\")"
   ]
  },
  {
   "cell_type": "markdown",
   "id": "2d6b7baa-809a-483f-a400-2e529f19d170",
   "metadata": {},
   "source": [
    "> Исходя из построенной матрицы корреляции, мы можем сделать вывод о том, что такие факторы, как Por — пористость скважины, \n",
    "Perm — проницаемость скважин и TOC — общий органический углерод, наиболее коррелируют с нашим целевым признаком Prod — добыча газа в сутки.\n",
    ">\n",
    "> Ранг матрицы корреляций равен количеству столбцов-векторов, значит, все векторы системы линейно независимы.\n",
    "> \n",
    "> Поскольку определитель матрицы корреляции равен 0.0007299388072652082, корреляционная матрица является плохо обусловенной.\n",
    "> \n",
    "> Факторы Perm и Por, Por и TOC довольно сильно скоррелированы, что говорит о мультиколлинеарности признаков нашей матрицы. Так же средний уровень обратной корреляции просматривается между признаками TOC и AI.\n",
    ">\n",
    "> В данном случае модель классической линейной регрессии по методу наименьших квадратов плохо применима, так как матрица близка к вырожденной, а ее определитель близок к нулю, данные являются плохо обусловленными."
   ]
  },
  {
   "cell_type": "markdown",
   "id": "43fd91c4",
   "metadata": {
    "id": "43fd91c4"
   },
   "source": [
    "### Задание 5.2\n",
    "\n",
    "Создайте матрицу наблюдений `X` и вектор правильных ответов `y`. В качестве факторов для матрицы наблюдений возьмите все имеющиеся в данных признаки. \n",
    "\n",
    "Постройте модель линейной регрессии по методу наименьших квадратов. Для этого воспользуйтесь матричной формулой МНК и инструментарием библиотеки numpy. \n",
    "\n",
    "Выведите на экран полученные оценки коэффициентов модели, округлённые до целого.\n",
    "\n",
    "Приведите подробные выводы по полученным результатам, ответив на следующие вопросы:\n",
    "* Есть ли в ваших данных признаки, которые, согласно модели, можно назвать неинформативными, то есть они не оказывают влияния на целевую переменную или оказывают шумовое влияние?\n",
    "* Приведите интерпретацию нескольких (двух или трёх) коэффициентов полученной модели линейной регрессии.\n"
   ]
  },
  {
   "cell_type": "code",
   "execution_count": 33,
   "id": "5724288c",
   "metadata": {
    "id": "5724288c"
   },
   "outputs": [
    {
     "data": {
      "text/html": [
       "<div>\n",
       "<style scoped>\n",
       "    .dataframe tbody tr th:only-of-type {\n",
       "        vertical-align: middle;\n",
       "    }\n",
       "\n",
       "    .dataframe tbody tr th {\n",
       "        vertical-align: top;\n",
       "    }\n",
       "\n",
       "    .dataframe thead th {\n",
       "        text-align: right;\n",
       "    }\n",
       "</style>\n",
       "<table border=\"1\" class=\"dataframe\">\n",
       "  <thead>\n",
       "    <tr style=\"text-align: right;\">\n",
       "      <th></th>\n",
       "      <th>Prod</th>\n",
       "    </tr>\n",
       "  </thead>\n",
       "  <tbody>\n",
       "    <tr>\n",
       "      <th>0</th>\n",
       "      <td>-1232.0</td>\n",
       "    </tr>\n",
       "    <tr>\n",
       "      <th>1</th>\n",
       "      <td>0.0</td>\n",
       "    </tr>\n",
       "    <tr>\n",
       "      <th>2</th>\n",
       "      <td>230.0</td>\n",
       "    </tr>\n",
       "    <tr>\n",
       "      <th>3</th>\n",
       "      <td>116.0</td>\n",
       "    </tr>\n",
       "    <tr>\n",
       "      <th>4</th>\n",
       "      <td>-365.0</td>\n",
       "    </tr>\n",
       "    <tr>\n",
       "      <th>5</th>\n",
       "      <td>25.0</td>\n",
       "    </tr>\n",
       "    <tr>\n",
       "      <th>6</th>\n",
       "      <td>-78.0</td>\n",
       "    </tr>\n",
       "    <tr>\n",
       "      <th>7</th>\n",
       "      <td>785.0</td>\n",
       "    </tr>\n",
       "  </tbody>\n",
       "</table>\n",
       "</div>"
      ],
      "text/plain": [
       "     Prod\n",
       "0 -1232.0\n",
       "1     0.0\n",
       "2   230.0\n",
       "3   116.0\n",
       "4  -365.0\n",
       "5    25.0\n",
       "6   -78.0\n",
       "7   785.0"
      ]
     },
     "metadata": {},
     "output_type": "display_data"
    }
   ],
   "source": [
    "# матрица наблюдений\n",
    "data_ = data.drop('Prod', axis=1) # исключаем из данных целевую переменную\n",
    "# вектор значения целевой переменной\n",
    "y = data[[\"Prod\"]]\n",
    "\n",
    "X = np.column_stack((np.ones(data.shape[0]), data_))\n",
    "w_hat = np.round(np.linalg.inv(X.T@X)@X.T@y, 0) # решаем уравнение линейной регрессии по МНК\n",
    "\n",
    "display(w_hat)"
   ]
  },
  {
   "cell_type": "markdown",
   "id": "ebb5efe5-c230-4e37-bd9e-c5d7c4c37681",
   "metadata": {},
   "source": [
    "> Коэффициент свободного члена равен -1232, что говорит о воздействии внешних факторов, то есть без других факторов наших данных, добыча газа будет снижаеться по иным причинам\n",
    ">\n",
    "> Признаки Brittle — коэффициент хрупкости скважины, VR — коэффициент отражения витринита - имеют слабую корреляцию с нашей целевой переменной в пределах 0.3, а признак Well — идентификатор скважины - имеет коэффициент равный 0, а значит он никак не влияет на нашу целевую переменную и является дублирующим индекс нашей матрицы, добавляет шум и в дальнейшем от него стоит избавиться.\n",
    "> \n",
    "> Поскольку мы строим модель линейной регрессии на нестандартизированных данных, значения коэффициентов имеют разный масштаб и получились с большим разбросом. Разница между первым и последним коэффициентом более 2000, коэффициенты 3 и 5 так же измеряются в сотнях. \n",
    "> \n",
    "> Стандартизация поможет выстроить единый масштаб оценок коэффициентов регрессии, что даст более цельную и объективную картину."
   ]
  },
  {
   "cell_type": "markdown",
   "id": "4a05a4ac",
   "metadata": {
    "id": "4a05a4ac"
   },
   "source": [
    "### Задание 5.3\n",
    "\n",
    "Теперь потренируемся строить предсказание для наблюдений целевой переменной. \n",
    "\n",
    "**а)** Постройте прогноз выработки газа для скважины со следующими параметрами:\n",
    "\n",
    "```python\n",
    "{\n",
    "    'Well': 106.0,\n",
    "    'Por': 15.32,\n",
    "    'Perm': 3.71,\n",
    "    'AI': 3.29,\n",
    "    'Brittle': 55.99,\n",
    "    'TOC': 1.35,\n",
    "    'VR': 2.42\n",
    " }\n",
    "```\n",
    "\n",
    "Рассчитайте абсолютную ошибку построенного вами прогноза для предложенной скважины (в миллионах кубических футов в день), если известно, что на этой скважине производится `4748.315024` миллионов кубических футов газа в день. \n",
    "\n",
    "**б)** Постройте прогноз выработки газа для всех скважин из обучающего набора данных. Выберите метрику, по которой вы будете оценивать качество регрессионных моделей и сравнивать их между собой (можно использовать несколько метрик, но не более двух).\n",
    "\n",
    "Рассчитайте значение выбранной метрики для вашей модели. Приведите интерпретацию полученного результата. "
   ]
  },
  {
   "cell_type": "code",
   "execution_count": 37,
   "id": "e4291db0",
   "metadata": {
    "id": "e4291db0"
   },
   "outputs": [
    {
     "data": {
      "text/plain": [
       "'Прогноз добычи: 4715.26'"
      ]
     },
     "metadata": {},
     "output_type": "display_data"
    },
    {
     "data": {
      "text/plain": [
       "'Абсолютная ошибка: 33.055024'"
      ]
     },
     "metadata": {},
     "output_type": "display_data"
    },
    {
     "data": {
      "text/plain": [
       "'Метрика MAPE для новой скважины: 0.70 %'"
      ]
     },
     "metadata": {},
     "output_type": "display_data"
    },
    {
     "data": {
      "text/plain": [
       "'Метрика MAPE прогноза выработки газа для всех скважин : 3.65 %'"
      ]
     },
     "metadata": {},
     "output_type": "display_data"
    }
   ],
   "source": [
    "new_factors = np.array(list({\n",
    "    \"1\": 1,\n",
    "    \"Well\": 106.0,\n",
    "    \"Por\": 15.32,\n",
    "    \"Perm\": 3.71,\n",
    "    \"AI\": 3.29,\n",
    "    \"Brittle\": 55.99,\n",
    "    \"TOC\": 1.35,\n",
    "    \"VR\": 2.42\n",
    " }.values())) # массив факторов новой скважины с добавленным интерсептом\n",
    "\n",
    "y_base = 4748.315024 # истинное значение\n",
    "\n",
    "new_y = np.dot(new_factors, w_hat)\n",
    "err = np.round(np.abs(y_base - new_y), 6)\n",
    "display(f\"Прогноз добычи: {new_y[0]}\")\n",
    "display(f\"Абсолютная ошибка: {err[0]}\")\n",
    "display(f\"Метрика MAPE для новой скважины: {mean_absolute_percentage_error(np.array([y_base]), new_y)*100:.2f} %\")\n",
    "\n",
    "# прогноз выработки газа для всех скважин \n",
    "y_pred = X@w_hat\n",
    "\n",
    "display(f\"Метрика MAPE прогноза выработки газа для всех скважин : {mean_absolute_percentage_error(y, y_pred)*100:.2f} %\")"
   ]
  },
  {
   "cell_type": "markdown",
   "id": "c9bee4bc",
   "metadata": {
    "id": "c9bee4bc"
   },
   "source": [
    "> Согласно расчетам метрики MAPE, наш предсказанный результат отличается от текущих реальных значений незначительно - средняя абсолютная ошибка составляет около 3.6%, что говорит о высоком качестве предсказанных значений."
   ]
  },
  {
   "cell_type": "markdown",
   "id": "0c25c3aa",
   "metadata": {
    "id": "0c25c3aa"
   },
   "source": [
    "### Задание 5.4\n",
    "\n",
    "Настало время анализа построенной модели. Посмотрите на коэффициенты и сравните их знаки со значениями выборочных корреляций между целевым признаком и факторами, которые вы нашли ранее.\n",
    "\n",
    "Дайте развёрнутые ответы на следующие вопросы:\n",
    "\n",
    "* Есть ли в вашей модели фактор, при котором коэффициент в модели линейной регрессии противоречит соответствующему коэффициенту корреляции? Например, корреляция говорит, что зависимость между фактором и целевой переменной прямая, а модель говорит обратное. Если таких факторов несколько, укажите их все.\n",
    "* Как вы считаете, с чем связано полученное противоречие результатов?"
   ]
  },
  {
   "cell_type": "code",
   "execution_count": 41,
   "id": "v-zIxRPY9wK7",
   "metadata": {
    "id": "v-zIxRPY9wK7"
   },
   "outputs": [
    {
     "data": {
      "text/html": [
       "<div>\n",
       "<style scoped>\n",
       "    .dataframe tbody tr th:only-of-type {\n",
       "        vertical-align: middle;\n",
       "    }\n",
       "\n",
       "    .dataframe tbody tr th {\n",
       "        vertical-align: top;\n",
       "    }\n",
       "\n",
       "    .dataframe thead th {\n",
       "        text-align: right;\n",
       "    }\n",
       "</style>\n",
       "<table border=\"1\" class=\"dataframe\">\n",
       "  <thead>\n",
       "    <tr style=\"text-align: right;\">\n",
       "      <th></th>\n",
       "      <th>corr_coefs</th>\n",
       "      <th>w_hat</th>\n",
       "    </tr>\n",
       "  </thead>\n",
       "  <tbody>\n",
       "    <tr>\n",
       "      <th>Well</th>\n",
       "      <td>0.026817</td>\n",
       "      <td>0.0</td>\n",
       "    </tr>\n",
       "    <tr>\n",
       "      <th>Por</th>\n",
       "      <td>0.861910</td>\n",
       "      <td>230.0</td>\n",
       "    </tr>\n",
       "    <tr>\n",
       "      <th>Perm</th>\n",
       "      <td>0.727426</td>\n",
       "      <td>116.0</td>\n",
       "    </tr>\n",
       "    <tr>\n",
       "      <th>AI</th>\n",
       "      <td>-0.390835</td>\n",
       "      <td>-365.0</td>\n",
       "    </tr>\n",
       "    <tr>\n",
       "      <th>Brittle</th>\n",
       "      <td>0.237155</td>\n",
       "      <td>25.0</td>\n",
       "    </tr>\n",
       "    <tr>\n",
       "      <th>TOC</th>\n",
       "      <td>0.654445</td>\n",
       "      <td>-78.0</td>\n",
       "    </tr>\n",
       "    <tr>\n",
       "      <th>VR</th>\n",
       "      <td>0.323182</td>\n",
       "      <td>785.0</td>\n",
       "    </tr>\n",
       "  </tbody>\n",
       "</table>\n",
       "</div>"
      ],
      "text/plain": [
       "         corr_coefs  w_hat\n",
       "Well       0.026817    0.0\n",
       "Por        0.861910  230.0\n",
       "Perm       0.727426  116.0\n",
       "AI        -0.390835 -365.0\n",
       "Brittle    0.237155   25.0\n",
       "TOC        0.654445  -78.0\n",
       "VR         0.323182  785.0"
      ]
     },
     "metadata": {},
     "output_type": "display_data"
    }
   ],
   "source": [
    "# Датасет соотношения коэффициентов линейной регрессии и коэффициентов корреляции\n",
    "res_df = pd.DataFrame(corr_matrix.iloc[:-1, -1].values, columns=[\"corr_coefs\"])\n",
    "res_df[\"w_hat\"] = w_hat[1:].values\n",
    "columns = data.drop(\"Prod\", axis=1).columns\n",
    "res_df.index = columns\n",
    "display(res_df)"
   ]
  },
  {
   "cell_type": "markdown",
   "id": "qeowwIp99yBf",
   "metadata": {
    "id": "qeowwIp99yBf"
   },
   "source": [
    "> Как мы можем видеть из полученного датасета, в нашей модели есть фактор TOC, у которого коэффициент в модели линейной регрессии противоречит соответствующему коэффициенту корреляции. Корреляция говорит, что зависимость между фактором и целевой переменной прямая, а коэффициент модели говорит об обратной зависимости.\n",
    "> \n",
    "> Это может указывать на то, что фактор влияет на целевую переменную иначе в контексте модели и быть связано с мультиколлинеарностью и взаимодействием факторов в модели, а так же близости к вырожденности, что может искажать результаты прогнозирования. А как мы выяснили ранее, факторы Por и TOC имеют довольно сильную прямую корреляцию и факторы TOC и AI обратную корреляцию."
   ]
  },
  {
   "cell_type": "markdown",
   "id": "9cea9195",
   "metadata": {
    "id": "9cea9195"
   },
   "source": [
    "### Задание 5.5\n",
    "\n",
    "* Исключите из данных сильно коррелированные между собой факторы. Под сильной корреляцией в данной задаче будем понимать значения выше `0.7`.\n",
    "\n",
    "Выбирая, какой из коррелированных факторов оставить, руководствуйтесь коэффициентом корреляции с целевой переменной: оставляйте тот фактор, который больше всего коррелирует с целевой переменной (объёмом добычи газа).\n",
    "\n",
    "* Также исключите из данных факторы, для которых корреляция с целевой переменной меньше `0.05`.\n",
    "\n",
    "Постройте модель линейной регрессии на обновлённых после удаления факторов данных по методу наименьших квадратов. Для этого используйте матричную формулу и библиотеку numpy. Выведите значение полученных коэффициентов, округлённых до целого.\n",
    "\n",
    "Сделайте прогноз для всего обучающего набора данных и рассчитайте выбранную вами ранее метрику (или метрики). \n",
    "\n",
    "Дайте подробные ответы на следующие вопросы:\n",
    "\n",
    "* Приведите интерпретацию нескольких полученных коэффициентов (двух или трёх). Сравните их значения с полученными ранее.\n",
    "* Приведите интерпретацию полученных значений метрик. Сравните их значения с полученными ранее. \n",
    "* Удалось ли вам побороть противоречие коэффициентов линейной регрессии и коэффициентов корреляции?"
   ]
  },
  {
   "cell_type": "code",
   "execution_count": 45,
   "id": "5d5ZJ0lX_UHe",
   "metadata": {
    "id": "5d5ZJ0lX_UHe"
   },
   "outputs": [
    {
     "name": "stdout",
     "output_type": "stream",
     "text": [
      "Коэффициенты до удаления факторов:      Prod\n",
      "0 -1232.0\n",
      "1     0.0\n",
      "2   230.0\n",
      "3   116.0\n",
      "4  -365.0\n",
      "5    25.0\n",
      "6   -78.0\n",
      "7   785.0\n",
      "Коэффициенты после удаления факторов:      Prod\n",
      "0 -1835.0\n",
      "1   293.0\n",
      "2  -200.0\n",
      "3    28.0\n",
      "4   517.0\n"
     ]
    },
    {
     "data": {
      "text/plain": [
       "'MAPE: 4.05%'"
      ]
     },
     "metadata": {},
     "output_type": "display_data"
    }
   ],
   "source": [
    "# факторы TOC и Por, Por и Perm сильно скоррелированы между собой, но в обоих случаях у фактора Por корреляция с целевым признаком выше\n",
    "# Оставляем только фактор Por\n",
    "# Фактор Well имеет минимальную корреляцию с целевой переменной, его так же исключаем\n",
    "new_data = data.copy()\n",
    "new_data.drop([\"Well\", \"Perm\", \"TOC\", \"Prod\"], axis=1, inplace=True)\n",
    "\n",
    "renew_X = np.column_stack((np.ones(data.shape[0]), new_data))\n",
    "renew_w_hat = np.round(np.linalg.inv(renew_X.T@renew_X)@renew_X.T@y, 0)\n",
    "\n",
    "print(f\"Коэффициенты до удаления факторов: {w_hat}\", sep='\\n')\n",
    "print(f\"Коэффициенты после удаления факторов: {renew_w_hat}\", sep='\\n')\n",
    "\n",
    "y_pred = renew_X@renew_w_hat\n",
    "\n",
    "# Вычислим метрику MAPE\n",
    "display(f\"MAPE: {mean_absolute_percentage_error(y, y_pred)*100:.2f}%\")"
   ]
  },
  {
   "cell_type": "markdown",
   "id": "KxbYvMDo_WLe",
   "metadata": {
    "id": "KxbYvMDo_WLe"
   },
   "source": [
    "> Обновленные коэффициенты притерпели значительное изменение и все так же показывают высокую прямую корреляцию с целевой переменной фактора Por, который изменился с 230 до 293, и обратную корреляцию фактора AI, который изменился с -365 до - 200. И, хоть и с заметным снижением, остается высоким коэффициент фактора VR = 517, несмотря на то, что в матрице корреляции с целевой переменной его корреляция довольно низкая. \n",
    ">\n",
    "> Согласно обновленной метрики MAPE, наш предсказанный результат отличается от текущих реальных значений примерно на 4%, ранее средняя абсолютная ошибка составляла 3.6%, здесь изменения минимальны.\n",
    ">\n",
    "> С удалением фактора TOC было исключено противоречие между коэффициентами корреляций и коэффициентами регрессии."
   ]
  },
  {
   "cell_type": "markdown",
   "id": "7d50db12",
   "metadata": {
    "id": "7d50db12"
   },
   "source": [
    "### Задание 5.6\n",
    "\n",
    "Наконец, давайте построим модель линейной регрессии из библиотеки `scikit-learn (sklearn)` и сравним результаты её работы с теми, что нам удалось получить вручную. \n",
    "\n",
    "Постройте модель линейной регрессии на обновлённых после удаления факторов данных по методу наименьших квадратов. Для этого воспользуйтесь классом `LinearRegression` из библиотеки `sklearn`. Выведите значения полученных коэффициентов, округлённые до целого.\n",
    "\n",
    "Сделайте прогноз для всего обучающего набора данных и рассчитайте значение выбранной вами метрики (или метрик).\n",
    "\n",
    "Сравните результаты библиотечной реализации с тем, что вы получили ранее. "
   ]
  },
  {
   "cell_type": "code",
   "execution_count": 49,
   "id": "Gpdpfq59AKGu",
   "metadata": {
    "id": "Gpdpfq59AKGu"
   },
   "outputs": [
    {
     "name": "stdout",
     "output_type": "stream",
     "text": [
      "Коэффициенты после удаления факторов, полученные через numpy:      Prod\n",
      "0 -1835.0\n",
      "1   293.0\n",
      "2  -200.0\n",
      "3    28.0\n",
      "4   517.0\n",
      "Коэффициенты после удаления факторов, полученные через sklearn: [[   0.  293. -200.   28.  517.]]\n"
     ]
    },
    {
     "data": {
      "text/plain": [
       "'MAPE: 4.05%'"
      ]
     },
     "metadata": {},
     "output_type": "display_data"
    }
   ],
   "source": [
    "model = LinearRegression()\n",
    "model = model.fit(renew_X, y)\n",
    "model.coef_ = np.round(model.coef_, 0)\n",
    "pred = model.predict(renew_X)\n",
    "\n",
    "print(f\"Коэффициенты после удаления факторов, полученные через numpy: {renew_w_hat}\", sep='\\n')\n",
    "print(f\"Коэффициенты после удаления факторов, полученные через sklearn: {model.coef_}\")\n",
    "\n",
    "# Вычислим метрику MAPE\n",
    "display(f\"MAPE: {mean_absolute_percentage_error(y, pred)*100:.2f}%\")"
   ]
  },
  {
   "cell_type": "markdown",
   "id": "WT9cdHAbAMG7",
   "metadata": {
    "id": "WT9cdHAbAMG7"
   },
   "source": [
    "> Решение с помощью библиотеки sklearn и решение через МНК с помощью библиотеки numpy дало одинаковые результаты."
   ]
  },
  {
   "cell_type": "markdown",
   "id": "5346338e",
   "metadata": {
    "id": "5346338e"
   },
   "source": [
    "## Практика: полиномиальная регрессия и регуляризация"
   ]
  },
  {
   "cell_type": "markdown",
   "id": "aad9e3a6",
   "metadata": {
    "id": "aad9e3a6"
   },
   "source": [
    "Мы продолжаем работать над задачей от владельца компании «Газ-Таз-Ваз-Нефть» Василия.\n",
    "\n",
    "Ранее мы построили модель линейной регрессии, которая прогнозирует выработку газа на скважине. Для этого мы с помощью матрицы корреляций и рассуждений отобрали некоррелированные, значимые для предсказания признаки. **Далее мы будем использовать именно их (см. задание 5.5).**\n",
    "\n",
    "Мы хотим улучшить результат — уменьшить ошибку прогноза. Для этого мы воспользуемся моделью полиномиальной регрессии третьей степени. Однако теперь мы знаем, что полиномиальным моделям очень легко переобучиться под исходную выборку. Так как данных у нас не так много (всего 200 скважин), то для контроля качества модели мы будем использовать кросс-валидацию. \n",
    "\n",
    "Приступим! Выполните задания 8.1–8.5:\n"
   ]
  },
  {
   "cell_type": "code",
   "execution_count": 54,
   "id": "18506d1b",
   "metadata": {
    "id": "18506d1b"
   },
   "outputs": [],
   "source": [
    "from sklearn.preprocessing import PolynomialFeatures, StandardScaler\n",
    "from sklearn.linear_model import LinearRegression, Lasso, Ridge, ElasticNet\n",
    "from sklearn.model_selection import GridSearchCV, cross_validate, RandomizedSearchCV"
   ]
  },
  {
   "cell_type": "markdown",
   "id": "bfbfea8d",
   "metadata": {
    "id": "bfbfea8d"
   },
   "source": [
    "### Задание 8.1\n",
    "Стандаризируйте признаки с помощью `StandartScaler` из библиотеки `sklearn`. \n",
    "\n",
    "Затем сгенерируйте полиномиальные признаки третьего порядка на факторах, которые вы выбрали для обучения моделей. Для этого воспользуйтесь генератором полиномов `PolynomialFeatures` из библиотеки `sklearn`. Параметр `include_bias` установите в значение `False`.\n",
    "\n",
    "Выведите на экран, сколько факторов у вас получилось после генерации полиномиальных признаков.\n",
    "\n",
    "**Важно:** стандартизацию необходимо произвести до генерации полиномиальных факторов!\n",
    "\n",
    "Обучите модель линейной регрессии из библиотеки `sklearn` (`LinearRegression`) на полученных полиномиальных факторах.\n",
    "\n",
    "Используя кросс-валидацию оцените среднее значение выбранной вами метрики (или метрик) на тренировочных и валидационных фолдах.\n",
    "\n",
    "Проинтерпретируйте полученные результаты."
   ]
  },
  {
   "cell_type": "code",
   "execution_count": 57,
   "id": "-ln3bx8NFNRw",
   "metadata": {
    "id": "-ln3bx8NFNRw"
   },
   "outputs": [
    {
     "data": {
      "text/plain": [
       "'Количество факторов после генерации полиномиальных признаков: 34'"
      ]
     },
     "metadata": {},
     "output_type": "display_data"
    },
    {
     "data": {
      "text/plain": [
       "'MAPE на тренировочных фолдах: 1.77%'"
      ]
     },
     "metadata": {},
     "output_type": "display_data"
    },
    {
     "data": {
      "text/plain": [
       "'MAPE на валидационных фолдах: 2.68%'"
      ]
     },
     "metadata": {},
     "output_type": "display_data"
    }
   ],
   "source": [
    "X = data.drop([\"Well\", \"Perm\", \"TOC\", \"Prod\"], axis=1)\n",
    "y = data[[\"Prod\"]]\n",
    "scaler = StandardScaler()\n",
    "X_scaled = scaler.fit_transform(X)\n",
    "pol = PolynomialFeatures(degree=3, include_bias=False)\n",
    "X_pol = pol.fit_transform(X_scaled)\n",
    "\n",
    "display(f\"Количество факторов после генерации полиномиальных признаков: {X_pol.shape[1]}\")\n",
    "\n",
    "lr = LinearRegression().fit(X_pol, y)\n",
    "y_pred = lr.predict(X_pol)\n",
    "\n",
    "scores = cross_validate(lr, X_pol, y, scoring=\"neg_mean_absolute_percentage_error\", cv=5, return_train_score=True)\n",
    "display(f\"MAPE на тренировочных фолдах: {(-scores[\"train_score\"].mean()* 100):.2f}%\")\n",
    "display(f\"MAPE на валидационных фолдах: {(-scores[\"test_score\"].mean()* 100):.2f}%\")\t"
   ]
  },
  {
   "cell_type": "markdown",
   "id": "9DkuuLLtFPPy",
   "metadata": {
    "id": "9DkuuLLtFPPy"
   },
   "source": [
    "> Качество модели значительно возрасло, средняя абсолютная ошибка снизилась, что отражается как на тренировочных, так и на валидационных фолдах.."
   ]
  },
  {
   "cell_type": "markdown",
   "id": "63d06013",
   "metadata": {
    "id": "63d06013"
   },
   "source": [
    "### Задание 8.2\n",
    "\n",
    "Теперь попробуем воспользоваться линейной регрессией с регуляризацией. Для начала возьмём $L_1$-регуляризацию.\n",
    "\n",
    "Обучите модель `Lasso` из библиотеки `sklearn` на полученных полиномиальных факторах, предварительно стандартизировав факторы. \n",
    "\n",
    "Коэффициент регуляризации (`alpha`) подберите самостоятельно с помощью любого известного вам метода подбора гиперпаметров.\n",
    "\n",
    "Используя кросс-валидацию, оцените среднее значение выбранной вами метрики (или метрик) на тренировочных и валидационных фолдах.\n",
    "\n",
    "Проинтерпретируйте полученные результаты."
   ]
  },
  {
   "cell_type": "code",
   "execution_count": 61,
   "id": "IJ5b5G8qFz-r",
   "metadata": {
    "id": "IJ5b5G8qFz-r"
   },
   "outputs": [
    {
     "data": {
      "text/plain": [
       "\"Наилучшие значения гиперпараметров: {'alpha': 4.604040404040404}\""
      ]
     },
     "metadata": {},
     "output_type": "display_data"
    },
    {
     "data": {
      "text/plain": [
       "'Наилучшее значение MAPE при кросс-валидации: 0.023%'"
      ]
     },
     "metadata": {},
     "output_type": "display_data"
    },
    {
     "data": {
      "text/plain": [
       "'MAPE на тренировочных фолдах: 1.82%'"
      ]
     },
     "metadata": {},
     "output_type": "display_data"
    },
    {
     "data": {
      "text/plain": [
       "'MAPE на валидационных фолдах: 2.28%'"
      ]
     },
     "metadata": {},
     "output_type": "display_data"
    }
   ],
   "source": [
    "# сетка гиперпараметров\n",
    "param_dist = [{\"alpha\": np.linspace(0.1, 5, 100, dtype=float)}]\n",
    "\n",
    "# создаем объект класса RandomizedSearchCV и передаем гиперпараметры\n",
    "random_search_lasso = RandomizedSearchCV(\n",
    "    estimator=Lasso(random_state=42),\n",
    "    param_distributions=param_dist,\n",
    "    cv=5,\n",
    "    scoring=\"neg_mean_absolute_percentage_error\",\n",
    "    n_iter=50,\n",
    "    n_jobs=-1\n",
    ")  \n",
    "\n",
    "random_search_lasso.fit(X_pol, y) \n",
    "\n",
    "display(f\"Наилучшие значения гиперпараметров: {random_search_lasso.best_params_}\")\n",
    "display(f\"Наилучшее значение MAPE при кросс-валидации: {-random_search_lasso.best_score_:.3f}%\")\n",
    "\n",
    "# применим найденные гиперпараметры для регрессии с L1-регуляризацией к нашим данным\n",
    "lasso = Lasso(alpha=random_search_lasso.best_params_[\"alpha\"], random_state=42)\n",
    "\n",
    "# передаем в кросс-валидационную функцию наши данные и модель\n",
    "scores_l = cross_validate(lasso, X_pol, y, scoring=\"neg_mean_absolute_percentage_error\", cv=5, return_train_score=True)\n",
    "\n",
    "display(f\"MAPE на тренировочных фолдах: {-scores_l[\"train_score\"].mean()*100:.2f}%\")\n",
    "display(f\"MAPE на валидационных фолдах: {-scores_l[\"test_score\"].mean()*100:.2f}%\")\t"
   ]
  },
  {
   "cell_type": "markdown",
   "id": "Se0OGR8UF2Td",
   "metadata": {
    "id": "Se0OGR8UF2Td"
   },
   "source": [
    "> Исходя из метрики MAPE нам удалось еще немного улучшить качество модели, ранее было 2.68%, теперь 2.28% "
   ]
  },
  {
   "cell_type": "markdown",
   "id": "2975ae60",
   "metadata": {
    "id": "2975ae60"
   },
   "source": [
    "### Задание 8.3\n",
    "\n",
    "Проделаем то же самое с $L_2$-регуляризацией.\n",
    "\n",
    "Обучите модель `Ridge` из библиотеки `sklearn` на полученных полиномиальных факторах, предварительно стандартизировав факторы. \n",
    "\n",
    "Коэффициент регуляризации (`alpha`) подберите самостоятельно с помощью любого известного вам метода подбора гиперпаметров.\n",
    "\n",
    "Используя кросс-валидацию оцените среднее значение выбранной вами метрики (или метрик) на тренировочных и валидационных фолдах.\n",
    "\n",
    "Проинтерпретируйте полученные результаты."
   ]
  },
  {
   "cell_type": "code",
   "execution_count": 65,
   "id": "UfPGyNsjGGS8",
   "metadata": {
    "id": "UfPGyNsjGGS8"
   },
   "outputs": [
    {
     "data": {
      "text/plain": [
       "\"Наилучшие значения гиперпараметров: {'alpha': 0.21161616161616165}\""
      ]
     },
     "metadata": {},
     "output_type": "display_data"
    },
    {
     "data": {
      "text/plain": [
       "'Наилучшее значение MAPE при кросс-валидации: 2.67%'"
      ]
     },
     "metadata": {},
     "output_type": "display_data"
    },
    {
     "data": {
      "text/plain": [
       "'MAPE на тренировочных фолдах: 1.77%'"
      ]
     },
     "metadata": {},
     "output_type": "display_data"
    },
    {
     "data": {
      "text/plain": [
       "'MAPE на валидационных фолдах: 2.67%'"
      ]
     },
     "metadata": {},
     "output_type": "display_data"
    }
   ],
   "source": [
    "# сетка гиперпараметров\n",
    "param_dist = [{\"alpha\": np.linspace(0.01, 5, 100, dtype=float)}]\n",
    "\n",
    "random_search_ridge = RandomizedSearchCV(\n",
    "    estimator=Ridge(random_state=42),\n",
    "    param_distributions=param_dist,\n",
    "    cv=5,\n",
    "    scoring=\"neg_mean_absolute_percentage_error\",\n",
    "    n_iter=50,\n",
    "    n_jobs=-1\n",
    ")  \n",
    "\n",
    "random_search_ridge.fit(X_pol, y) \n",
    "\n",
    "display(f\"Наилучшие значения гиперпараметров: {random_search_ridge.best_params_}\")\n",
    "display(f\"Наилучшее значение MAPE при кросс-валидации: {-random_search_ridge.best_score_:.2%}\")\n",
    "\n",
    "# применим найденные гиперпараметры для регрессии с L2-регуляризацией к нашим данным\n",
    "ridge = Ridge(alpha=random_search_ridge.best_params_[\"alpha\"], random_state=42)\n",
    "\n",
    "# передаем в кросс-валидационную функцию наши данные и модель\n",
    "scores_r = cross_validate(ridge, X_pol, y, scoring=\"neg_mean_absolute_percentage_error\", cv=5, return_train_score=True)\n",
    "\n",
    "display(f\"MAPE на тренировочных фолдах: {-scores_r[\"train_score\"].mean()*100:.2f}%\")\n",
    "display(f\"MAPE на валидационных фолдах: {-scores_r[\"test_score\"].mean()*100:.2f}%\")\t"
   ]
  },
  {
   "cell_type": "markdown",
   "id": "dQBd7ny_GIi1",
   "metadata": {
    "id": "dQBd7ny_GIi1"
   },
   "source": [
    "> L2-регуляризация снизила качество - MAPE = 2.67% - нашей линейной регрессии по сравнению с L1-регуляризацией -  MAPE = 2.28%."
   ]
  },
  {
   "cell_type": "markdown",
   "id": "7ad85b78",
   "metadata": {
    "id": "7ad85b78"
   },
   "source": [
    "### Задание 8.4. (2 балла)\n",
    "\n",
    "Наконец, настало время комбинировать $L_1$ и $L_2$ -регуляризации.\n",
    "\n",
    "Обучите модель `ElasticNet` из библиотеки `sklearn` на полученных полиномиальных факторах, предварительно стандартизировав факторы. \n",
    "\n",
    "Коэффициенты регуляризации (`alpha` и `l1-ratio`) подберите самостоятельно с помощью любого известного вам метода подбора гиперпаметров.\n",
    "\n",
    "Используя кросс-валидацию, оцените среднее значение метрики MAPE на тренировочных и валидационных фолдах.\n",
    "\n",
    "Проинтерпретируйте полученные результаты."
   ]
  },
  {
   "cell_type": "markdown",
   "id": "sy8ESceQ-__u",
   "metadata": {
    "id": "sy8ESceQ-__u"
   },
   "source": [
    "**Критерии оценивания:**\n",
    "\n",
    "- Задание выполнено верно, учтены все условия (**2 балла**): \n",
    "    * правильно построена модель полиномиальной регрессии (линейной регрессии на полиномиальных признаках) с регуляризацией (ElasticNet), учтены условия необходимости масштабирования факторов для построения модели;\n",
    "    * приведён код для подбора параметра регуляризации (вручную или с помощью библиотечных инструментов);\n",
    "    * с помощью кросс-валидации оценено среднее значение выбранной студентом метрики (или метрик) на тренировочных и валидационных фолдах (метрика должна быть выбрана корректно).\n",
    "\n",
    "- Задание выполнено верно, но не учтено одно из условий (**1 балл**).\n",
    "- Задание выполнено неверно, не учтено несколько условий (**0 баллов**)."
   ]
  },
  {
   "cell_type": "code",
   "execution_count": 70,
   "id": "-Yi3P20hQnLS",
   "metadata": {
    "id": "-Yi3P20hQnLS"
   },
   "outputs": [
    {
     "data": {
      "text/plain": [
       "\"Наилучшие значения гиперпараметров: {'l1_ratio': 1.0, 'alpha': 4.901010101010101}\""
      ]
     },
     "metadata": {},
     "output_type": "display_data"
    },
    {
     "data": {
      "text/plain": [
       "'Наилучшее значение MAPE при кросс-валидации: 2.28%'"
      ]
     },
     "metadata": {},
     "output_type": "display_data"
    },
    {
     "data": {
      "text/plain": [
       "'MAPE на тренировочных фолдах: 1.83%'"
      ]
     },
     "metadata": {},
     "output_type": "display_data"
    },
    {
     "data": {
      "text/plain": [
       "'MAPE на валидационных фолдах: 2.28%'"
      ]
     },
     "metadata": {},
     "output_type": "display_data"
    }
   ],
   "source": [
    "# Ваш код здесь\n",
    "# сетка гиперпараметров\n",
    "param_dists = [{\"alpha\": np.linspace(0.1, 5, 100, dtype=float),\n",
    "              \"l1_ratio\": np.linspace(0.05, 1, 10, dtype=float)}\n",
    "]\n",
    "\n",
    "random_search_elast = RandomizedSearchCV(\n",
    "    estimator=ElasticNet(random_state=42),\n",
    "    param_distributions=param_dists,\n",
    "    cv=5,\n",
    "    scoring=\"neg_mean_absolute_percentage_error\",\n",
    "    n_iter=300,\n",
    "    n_jobs=-1\n",
    ")  \n",
    "\n",
    "random_search_elast.fit(X_pol, y) \n",
    "\n",
    "display(f\"Наилучшие значения гиперпараметров: {random_search_elast.best_params_}\")\n",
    "display(f\"Наилучшее значение MAPE при кросс-валидации: {-random_search_elast.best_score_:.2%}\")\n",
    "\n",
    "# применим найденные гиперпараметры для регрессии с L1-регуляризации к нашим данным\n",
    "elastic = ElasticNet(alpha=random_search_elast.best_params_[\"alpha\"], l1_ratio=random_search_elast.best_params_[\"l1_ratio\"],\n",
    "                     max_iter=500, random_state=42)\n",
    "# передаем в кросс-валидационную функцию наши данные и модель\n",
    "scores_el = cross_validate(elastic, X_pol, y, scoring=\"neg_mean_absolute_percentage_error\", cv=5, return_train_score=True)\n",
    "\n",
    "display(f\"MAPE на тренировочных фолдах: {-scores_el[\"train_score\"].mean()*100:.2f}%\")\n",
    "display(f\"MAPE на валидационных фолдах: {-scores_el[\"test_score\"].mean()*100:.2f}%\")\t"
   ]
  },
  {
   "cell_type": "markdown",
   "id": "d1875ca2-996b-42cb-afae-9b9b3a3538e6",
   "metadata": {},
   "source": [
    "> Модель ElasticNet дает нам тот же уровень значений метрики MAPE, что и L1-регуляризация - 2.28%"
   ]
  },
  {
   "cell_type": "markdown",
   "id": "91c6e1d1",
   "metadata": {
    "id": "91c6e1d1"
   },
   "source": [
    "### Задание 8.5\n",
    "\n",
    "Завершением вашей работы будет сводная таблица результатов, которую вы представите на презентации заказчику Василию.\n",
    "\n",
    "Составьте таблицу (DataFrame) со следующими столбцами (имена столбцов выберите самостоятельно):\n",
    "* Наименование модели.\n",
    "* Гиперпараметры (коэффициенты регуляризации, если таковые имеются), если нет — оставьте ячейку пустой.\n",
    "* Использовались ли полиномиальные признаки при построении модели (Да/Нет или True/False).\n",
    "* Значение выбранной метрики на тренировочных фолдах при кросс-валидации модели.\n",
    "* Значение выбранной метрики на валидационных фолдах при кросс-валидации модели.\n",
    "\n",
    "Сделайте финальный вывод по проделанной работе. Какая линейная модель из тех, что мы рассмотрели, показала наилучший результат с точки зрения качества на валидационных фолдах, а также с точки зрения переобученности?"
   ]
  },
  {
   "cell_type": "code",
   "execution_count": 74,
   "id": "wRiys8lKQuqW",
   "metadata": {
    "id": "wRiys8lKQuqW"
   },
   "outputs": [
    {
     "data": {
      "text/html": [
       "<div>\n",
       "<style scoped>\n",
       "    .dataframe tbody tr th:only-of-type {\n",
       "        vertical-align: middle;\n",
       "    }\n",
       "\n",
       "    .dataframe tbody tr th {\n",
       "        vertical-align: top;\n",
       "    }\n",
       "\n",
       "    .dataframe thead th {\n",
       "        text-align: right;\n",
       "    }\n",
       "</style>\n",
       "<table border=\"1\" class=\"dataframe\">\n",
       "  <thead>\n",
       "    <tr style=\"text-align: right;\">\n",
       "      <th></th>\n",
       "      <th>Наименование модели</th>\n",
       "      <th>Гиперпараметры</th>\n",
       "      <th>Полиномиальные признаки</th>\n",
       "      <th>MAPE на тренировочных фолдах</th>\n",
       "      <th>MAPE на валидационных фолдах</th>\n",
       "    </tr>\n",
       "  </thead>\n",
       "  <tbody>\n",
       "    <tr>\n",
       "      <th>0</th>\n",
       "      <td>LinearRegression</td>\n",
       "      <td>False</td>\n",
       "      <td>False</td>\n",
       "      <td>4.048873</td>\n",
       "      <td>NaN</td>\n",
       "    </tr>\n",
       "    <tr>\n",
       "      <th>1</th>\n",
       "      <td>Polinomial Regression</td>\n",
       "      <td>False</td>\n",
       "      <td>True</td>\n",
       "      <td>1.773240</td>\n",
       "      <td>2.680875</td>\n",
       "    </tr>\n",
       "    <tr>\n",
       "      <th>2</th>\n",
       "      <td>Polinomial Regression Lasso</td>\n",
       "      <td>{'alpha': 4.604040404040404}</td>\n",
       "      <td>True</td>\n",
       "      <td>1.821466</td>\n",
       "      <td>2.275520</td>\n",
       "    </tr>\n",
       "    <tr>\n",
       "      <th>3</th>\n",
       "      <td>Polinomial Regression Ridge</td>\n",
       "      <td>{'alpha': 0.21161616161616165}</td>\n",
       "      <td>True</td>\n",
       "      <td>1.774251</td>\n",
       "      <td>2.672614</td>\n",
       "    </tr>\n",
       "    <tr>\n",
       "      <th>4</th>\n",
       "      <td>Polinomial Regression ElasticNet</td>\n",
       "      <td>{'l1_ratio': 1.0, 'alpha': 4.901010101010101}</td>\n",
       "      <td>True</td>\n",
       "      <td>1.826169</td>\n",
       "      <td>2.275995</td>\n",
       "    </tr>\n",
       "  </tbody>\n",
       "</table>\n",
       "</div>"
      ],
      "text/plain": [
       "                Наименование модели  \\\n",
       "0                  LinearRegression   \n",
       "1             Polinomial Regression   \n",
       "2       Polinomial Regression Lasso   \n",
       "3       Polinomial Regression Ridge   \n",
       "4  Polinomial Regression ElasticNet   \n",
       "\n",
       "                                  Гиперпараметры  Полиномиальные признаки  \\\n",
       "0                                          False                    False   \n",
       "1                                          False                     True   \n",
       "2                   {'alpha': 4.604040404040404}                     True   \n",
       "3                 {'alpha': 0.21161616161616165}                     True   \n",
       "4  {'l1_ratio': 1.0, 'alpha': 4.901010101010101}                     True   \n",
       "\n",
       "   MAPE на тренировочных фолдах  MAPE на валидационных фолдах  \n",
       "0                      4.048873                           NaN  \n",
       "1                      1.773240                      2.680875  \n",
       "2                      1.821466                      2.275520  \n",
       "3                      1.774251                      2.672614  \n",
       "4                      1.826169                      2.275995  "
      ]
     },
     "execution_count": 74,
     "metadata": {},
     "output_type": "execute_result"
    }
   ],
   "source": [
    "# Ваш код здесь\n",
    "# датафрейм с результатами всех построенных моделей\n",
    "score_data = pd.DataFrame({\n",
    "    \"Наименование модели\": [\"LinearRegression\", \"Polinomial Regression\", \"Polinomial Regression Lasso\", \"Polinomial Regression Ridge\", \n",
    "              \"Polinomial Regression ElasticNet\"],\n",
    "    \"Гиперпараметры\": [False, False, random_search_lasso.best_params_, random_search_ridge.best_params_, \n",
    "                        random_search_elast.best_params_],\n",
    "    \"Полиномиальные признаки\": [False, True, True, True, True],\n",
    "    \"MAPE на тренировочных фолдах\": [mean_absolute_percentage_error(y, pred)*100,\n",
    "                            -scores[\"train_score\"].mean()*100, \n",
    "                            -scores_l[\"train_score\"].mean()*100, \n",
    "                            -scores_r[\"train_score\"].mean()*100, \n",
    "                            -scores_el[\"train_score\"].mean()*100],\n",
    "    \"MAPE на валидационных фолдах\": [None, -scores[\"test_score\"].mean()*100, \n",
    "                            -scores_l[\"test_score\"].mean()*100,\n",
    "                              -scores_r[\"test_score\"].mean()*100,\n",
    "                               -scores_el[\"test_score\"].mean()*100]\n",
    "    })\n",
    "\n",
    "score_data"
   ]
  },
  {
   "cell_type": "markdown",
   "id": "b6d035aa-1370-40ec-a4b8-7e23e8d3ae9f",
   "metadata": {},
   "source": [
    "> На примере данного анализа мы смогли увидеть, как важно построить и проанализировать корреляции факторов между собой и целевой переменной, как мультиколлинеарность в данных может приводить к трудноинтерпретируемым результатам и большому разбросу коэффициентов. Была показана необходимость предварительной обработки данных, исключения слабокоррелирующих с целевой переменной признаков и шумов, чтобы в итоге оставить только те факторы, которые являются значимыми для целевой переменной и не будут искажат будущий прогноз модели.\n",
    "> \n",
    "> Мы установили факторы, которые оказывают наибольшее влияние на добычу газа: Por - показал высокую положительную корреляцию, AI - отрицательную.\n",
    "> \n",
    "> Из сравнительной таблицы мы видим, что наилучшей моделью, которая решает задачу с минимальной ошибкой, является линейная регрессия на полиномиальных признаках с L1-регуляризацией.\n",
    "> \n",
    "> Итоговый результат показал отсутствие большого разброса между значениями метрик на тренировочных и валидационнных фолдах, что говорит о том, что наши модели не переобучились, но показали практически максимальную изученность данных. "
   ]
  }
 ],
 "metadata": {
  "colab": {
   "provenance": []
  },
  "kernelspec": {
   "display_name": "Python 3 (ipykernel)",
   "language": "python",
   "name": "python3"
  },
  "language_info": {
   "codemirror_mode": {
    "name": "ipython",
    "version": 3
   },
   "file_extension": ".py",
   "mimetype": "text/x-python",
   "name": "python",
   "nbconvert_exporter": "python",
   "pygments_lexer": "ipython3",
   "version": "3.12.4"
  },
  "vscode": {
   "interpreter": {
    "hash": "86c56a74836ad344b00594bf6f38fa6a676a207ceefe20d101fbc465800ccb8d"
   }
  }
 },
 "nbformat": 4,
 "nbformat_minor": 5
}
